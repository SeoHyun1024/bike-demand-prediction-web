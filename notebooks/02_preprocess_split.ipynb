{
 "cells": [
  {
   "cell_type": "markdown",
   "id": "2ff2e97b",
   "metadata": {},
   "source": [
    "#### 전처리 & 저장"
   ]
  },
  {
   "cell_type": "code",
   "execution_count": 7,
   "id": "486980b8",
   "metadata": {},
   "outputs": [
    {
     "name": "stdout",
     "output_type": "stream",
     "text": [
      "Rented_Bike_Count    0\n",
      "Hour                 0\n",
      "Temperature°C        0\n",
      "Humidity%            0\n",
      "Wind_speed_m_s       0\n",
      "Visibility_10m       0\n",
      "Rainfallmm           0\n",
      "Snowfall_cm          0\n",
      "Seasons              0\n",
      "Holiday              0\n",
      "year                 0\n",
      "month                0\n",
      "weekday              0\n",
      "dtype: int64\n"
     ]
    }
   ],
   "source": [
    "import sys\n",
    "import os\n",
    "sys.path.append(os.path.abspath(os.path.join(os.getcwd(), \"../src\")))\n",
    "\n",
    "from preprocess import load_and_preprocess\n",
    "\n",
    "df = load_and_preprocess(\"../data/raw/SeoulBikeData.csv\")\n",
    "df.to_csv(\"../data/processed/seoul_bike_data_clean.csv\", index=False)\n",
    "print(df.isnull().sum())"
   ]
  },
  {
   "cell_type": "markdown",
   "id": "f1981a3b",
   "metadata": {},
   "source": [
    "#### 분할(Train / Validation / Test) & 저장"
   ]
  },
  {
   "cell_type": "code",
   "execution_count": 8,
   "id": "51daabd9",
   "metadata": {},
   "outputs": [],
   "source": [
    "# from split import split_data\n",
    "\n",
    "# train_df, val_df, test_df = split_data(df)\n",
    "\n",
    "# train_df.to_csv(\"../data/processed/train.csv\", index=False)\n",
    "# val_df.to_csv(\"../data/processed/val.csv\", index=False)\n",
    "# test_df.to_csv(\"../data/processed/test.csv\", index=False)"
   ]
  },
  {
   "cell_type": "code",
   "execution_count": null,
   "id": "2ed2e4af",
   "metadata": {},
   "outputs": [],
   "source": []
  }
 ],
 "metadata": {
  "kernelspec": {
   "display_name": ".venv",
   "language": "python",
   "name": "python3"
  },
  "language_info": {
   "codemirror_mode": {
    "name": "ipython",
    "version": 3
   },
   "file_extension": ".py",
   "mimetype": "text/x-python",
   "name": "python",
   "nbconvert_exporter": "python",
   "pygments_lexer": "ipython3",
   "version": "3.13.1"
  }
 },
 "nbformat": 4,
 "nbformat_minor": 5
}
