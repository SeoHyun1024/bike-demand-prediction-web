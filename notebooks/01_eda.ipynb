{
 "cells": [
  {
   "cell_type": "markdown",
   "id": "cb61a0dc",
   "metadata": {},
   "source": [
    "#### EDA"
   ]
  },
  {
   "cell_type": "code",
   "execution_count": null,
   "id": "f2d4d1c6",
   "metadata": {},
   "outputs": [],
   "source": [
    "import pandas as pd\n",
    "import matplotlib.pyplot as plt\n",
    "import seaborn as sns\n",
    "\n",
    "df = pd.read_csv(\"../data/raw/SeoulBikeData.csv\", encoding='utf-8')\n",
    "\n",
    "df['Date'] = pd.to_datetime(df['Date'], dayfirst=True)\n",
    "\n",
    "df['year'] = df['Date'].dt.year\n",
    "df['month'] = df['Date'].dt.month\n",
    "df['weekday'] = df['Date'].dt.weekday\n",
    "df['day_name'] = df['Date'].dt.day_name()\n",
    "\n",
    "df = df[df['Functioning Day'] == 'Yes']\n",
    "\n",
    "df['Holiday'] = df['Holiday'].map({'No': 0, 'Yes': 1})\n",
    "\n",
    "season_order = ['Spring', 'Summer', 'Autumn', 'Winter']\n",
    "df['Seasons'] = pd.Categorical(df['Seasons'], categories=season_order, ordered=True)\n",
    "\n",
    "# 1. 대여량 기본 분포\n",
    "plt.figure(figsize=(10, 4))\n",
    "sns.histplot(df['Rented Bike Count'], bins=50, kde=True)\n",
    "plt.title(\"Distribution of Bike Rentals\")\n",
    "plt.xlabel(\"Rented Bike Count\")\n",
    "plt.ylabel(\"Frequency\")\n",
    "plt.grid(True)\n",
    "plt.show()\n",
    "\n",
    "# 2. 시간대별 대여량 분포\n",
    "plt.figure(figsize=(12, 4))\n",
    "sns.boxplot(x='Hour', y='Rented Bike Count', data=df)\n",
    "plt.title(\"Bike rentals by hour\")\n",
    "plt.show()\n",
    "\n",
    "# 3. 요일별 평균 대여량\n",
    "plt.figure(figsize=(10, 4))\n",
    "sns.barplot(x='day_name', y='Rented Bike Count', data=df, estimator='mean')\n",
    "plt.title(\"Average rentals by weekday\")\n",
    "plt.xlabel(\"Weekday\")\n",
    "plt.ylabel(\"Average Rented Bike Count\")\n",
    "plt.xticks(rotation=45)\n",
    "plt.show()\n",
    "\n",
    "# 4. 계절별 바이올린플롯\n",
    "plt.figure(figsize=(10, 4))\n",
    "sns.violinplot(x='Seasons', y='Rented Bike Count', data=df, order=season_order)\n",
    "plt.title(\"Bike rentals by season\")\n",
    "plt.show()\n",
    "\n",
    "# 5. 상관관계 히트맵\n",
    "corr_cols = ['Hour', 'Temperature(°C)', 'Humidity(%)', 'Wind speed (m/s)', 'Visibility (10m)', 'Rainfall(mm)', 'Snowfall (cm)', 'Rented Bike Count']\n",
    "plt.figure(figsize=(10, 8))\n",
    "sns.heatmap(df[corr_cols].corr(), annot=True, cmap='coolwarm')\n",
    "plt.title(\"Correlation matrix\")\n",
    "plt.show()\n"
   ]
  }
 ],
 "metadata": {
  "kernelspec": {
   "display_name": "venv",
   "language": "python",
   "name": "python3"
  },
  "language_info": {
   "name": "python",
   "version": "3.12.6"
  }
 },
 "nbformat": 4,
 "nbformat_minor": 5
}
