{
 "cells": [
  {
   "cell_type": "markdown",
   "id": "914a4050",
   "metadata": {},
   "source": [
    "#### 데이터 로딩"
   ]
  },
  {
   "cell_type": "code",
   "execution_count": 16,
   "id": "62d720c8",
   "metadata": {},
   "outputs": [],
   "source": [
    "import sys\n",
    "import os\n",
    "sys.path.append(os.path.abspath(os.path.join(os.getcwd(), \"../src\")))\n",
    "\n",
    "import pandas as pd\n",
    "import numpy as np\n",
    "from sklearn.metrics import mean_squared_error, mean_absolute_error, r2_score\n",
    "from sklearn.tree import DecisionTreeRegressor\n",
    "from sklearn.linear_model import LinearRegression\n",
    "\n",
    "train_df = pd.read_csv(\"../data/processed/train.csv\")\n",
    "val_df = pd.read_csv(\"../data/processed/val.csv\")\n",
    "test_df = pd.read_csv(\"../data/processed/test.csv\")\n",
    "\n",
    "X_train = train_df.drop(columns=[\"Rented_Bike_Count\"]).values\n",
    "y_train = train_df[\"Rented_Bike_Count\"].values\n",
    "\n",
    "X_test = test_df.drop(columns=[\"Rented_Bike_Count\"]).values\n",
    "y_test = test_df[\"Rented_Bike_Count\"].values\n",
    "\n",
    "results = []"
   ]
  },
  {
   "cell_type": "markdown",
   "id": "4a2d7c41",
   "metadata": {},
   "source": [
    "#### 평가 함수"
   ]
  },
  {
   "cell_type": "code",
   "execution_count": 17,
   "id": "2642a548",
   "metadata": {},
   "outputs": [],
   "source": [
    "def print_metrics(name, y_true, y_pred):\n",
    "    mse = mean_squared_error(y_true, y_pred)\n",
    "    mae = mean_absolute_error(y_true, y_pred)\n",
    "    r2 = r2_score(y_true, y_pred)\n",
    "    print(f\"[{name}]\")\n",
    "    print(f\"  MSE : {mse:.2f}\")\n",
    "    print(f\"  MAE : {mae:.2f}\")\n",
    "    print(f\"  R²  : {r2:.4f}\")\n",
    "    print(\"-\" * 30)\n",
    "\n",
    "def evaluate_model(name, y_true, y_pred):\n",
    "    mse = mean_squared_error(y_true, y_pred)\n",
    "    mae = mean_absolute_error(y_true, y_pred)\n",
    "    r2 = r2_score(y_true, y_pred)\n",
    "    results.append({\n",
    "        \"Model\": name,\n",
    "        \"MSE\": mse,\n",
    "        \"MAE\": mae,\n",
    "        \"R2\": r2\n",
    "    })\n"
   ]
  },
  {
   "cell_type": "markdown",
   "id": "4d8a6eee",
   "metadata": {},
   "source": [
    "#### 선형 회귀"
   ]
  },
  {
   "cell_type": "code",
   "execution_count": 18,
   "id": "603e2e63",
   "metadata": {},
   "outputs": [
    {
     "name": "stdout",
     "output_type": "stream",
     "text": [
      "[Linear Regression]\n",
      "  MSE : 217475.75\n",
      "  MAE : 343.93\n",
      "  R²  : 0.4780\n",
      "------------------------------\n"
     ]
    }
   ],
   "source": [
    "lr = LinearRegression()\n",
    "lr.fit(X_train, y_train)\n",
    "y_pred_lr = lr.predict(X_test)\n",
    "\n",
    "print_metrics(\"Linear Regression\", y_test, y_pred_lr)\n",
    "evaluate_model(\"Linear Regression\", y_test, y_pred_lr)"
   ]
  },
  {
   "cell_type": "markdown",
   "id": "75a91ea9",
   "metadata": {},
   "source": [
    "#### 결정 트리"
   ]
  },
  {
   "cell_type": "code",
   "execution_count": 19,
   "id": "96374c97",
   "metadata": {},
   "outputs": [
    {
     "name": "stdout",
     "output_type": "stream",
     "text": [
      "[Decision Tree]\n",
      "  MSE : 110257.50\n",
      "  MAE : 192.45\n",
      "  R²  : 0.7354\n",
      "------------------------------\n"
     ]
    }
   ],
   "source": [
    "from sklearn.model_selection import GridSearchCV\n",
    "param_grid = {\n",
    "    'max_depth': [5, 10, 15, 20, None],\n",
    "    'min_samples_split': [2, 5, 10],\n",
    "    'min_samples_leaf': [1, 2, 4]\n",
    "}\n",
    "\n",
    "grid = GridSearchCV(\n",
    "    DecisionTreeRegressor(random_state=42),\n",
    "    param_grid,\n",
    "    cv=5,\n",
    "    scoring='neg_mean_squared_error',\n",
    "    n_jobs=-1\n",
    ")\n",
    "grid.fit(X_train, y_train)\n",
    "\n",
    "best_dt = grid.best_estimator_\n",
    "y_pred_dt = best_dt.predict(X_test)\n",
    "\n",
    "print_metrics(\"Decision Tree\", y_test, y_pred_dt)\n",
    "evaluate_model(\"Decision Tree\", y_test, y_pred_dt)"
   ]
  },
  {
   "cell_type": "markdown",
   "id": "8f5fe907",
   "metadata": {},
   "source": [
    "#### 랜덤 포레스트"
   ]
  },
  {
   "cell_type": "code",
   "execution_count": 20,
   "id": "b9fb123c",
   "metadata": {},
   "outputs": [
    {
     "name": "stdout",
     "output_type": "stream",
     "text": [
      "[Random Forest]\n",
      "  MSE : 70224.39\n",
      "  MAE : 140.23\n",
      "  R²  : 0.8315\n",
      "------------------------------\n"
     ]
    }
   ],
   "source": [
    "from sklearn.ensemble import RandomForestRegressor\n",
    "\n",
    "rf = RandomForestRegressor(\n",
    "    n_estimators=100,\n",
    "    max_depth=20,\n",
    "    min_samples_leaf=2,\n",
    "    random_state=42,\n",
    "    n_jobs=-1\n",
    ")\n",
    "rf.fit(X_train, y_train)\n",
    "\n",
    "y_pred_rf = rf.predict(X_test)\n",
    "\n",
    "print_metrics(\"Random Forest\", y_test, y_pred_rf)\n",
    "evaluate_model(\"Random Forest\", y_test, y_pred_rf)"
   ]
  },
  {
   "cell_type": "markdown",
   "id": "de4061a0",
   "metadata": {},
   "source": [
    "#### Gradient Boosting"
   ]
  },
  {
   "cell_type": "code",
   "execution_count": 21,
   "id": "e8ed3e46",
   "metadata": {},
   "outputs": [
    {
     "name": "stdout",
     "output_type": "stream",
     "text": [
      "[Gradient Boosting]\n",
      "  MSE : 60553.86\n",
      "  MAE : 141.19\n",
      "  R²  : 0.8547\n",
      "------------------------------\n"
     ]
    }
   ],
   "source": [
    "from sklearn.ensemble import GradientBoostingRegressor\n",
    "from sklearn.metrics import mean_squared_error\n",
    "\n",
    "gbr = GradientBoostingRegressor(\n",
    "    n_estimators=100,\n",
    "    learning_rate=0.1,\n",
    "    max_depth=5,\n",
    "    random_state=42\n",
    ")\n",
    "gbr.fit(X_train, y_train)\n",
    "y_pred_gbr = gbr.predict(X_test)\n",
    "\n",
    "print_metrics(\"Gradient Boosting\", y_test, y_pred_gbr)\n",
    "evaluate_model(\"Gradient Boosting\", y_test, y_pred_gbr)\n"
   ]
  },
  {
   "cell_type": "markdown",
   "id": "35e3289e",
   "metadata": {},
   "source": [
    "#### AdaBoost"
   ]
  },
  {
   "cell_type": "code",
   "execution_count": 22,
   "id": "86f40356",
   "metadata": {},
   "outputs": [
    {
     "name": "stdout",
     "output_type": "stream",
     "text": [
      "[AdaBoost]\n",
      "  MSE : 111530.68\n",
      "  MAE : 226.23\n",
      "  R²  : 0.7323\n",
      "------------------------------\n"
     ]
    }
   ],
   "source": [
    "from sklearn.ensemble import AdaBoostRegressor\n",
    "from sklearn.tree import DecisionTreeRegressor\n",
    "from sklearn.metrics import mean_squared_error\n",
    "\n",
    "base = DecisionTreeRegressor(max_depth=5)\n",
    "ada = AdaBoostRegressor(\n",
    "    estimator=base,\n",
    "    n_estimators=100,\n",
    "    learning_rate=0.1,\n",
    "    random_state=42\n",
    ")\n",
    "ada.fit(X_train, y_train)\n",
    "y_pred_ada = ada.predict(X_test)\n",
    "\n",
    "print_metrics(\"AdaBoost\", y_test, y_pred_ada)\n",
    "evaluate_model(\"AdaBoost\", y_test, y_pred_ada)\n"
   ]
  },
  {
   "cell_type": "markdown",
   "id": "0ff39650",
   "metadata": {},
   "source": [
    "#### 결과 비교 테이블 및 시각화"
   ]
  },
  {
   "cell_type": "code",
   "execution_count": 24,
   "id": "bde5f977",
   "metadata": {},
   "outputs": [
    {
     "data": {
      "text/html": [
       "<div>\n",
       "<style scoped>\n",
       "    .dataframe tbody tr th:only-of-type {\n",
       "        vertical-align: middle;\n",
       "    }\n",
       "\n",
       "    .dataframe tbody tr th {\n",
       "        vertical-align: top;\n",
       "    }\n",
       "\n",
       "    .dataframe thead th {\n",
       "        text-align: right;\n",
       "    }\n",
       "</style>\n",
       "<table border=\"1\" class=\"dataframe\">\n",
       "  <thead>\n",
       "    <tr style=\"text-align: right;\">\n",
       "      <th></th>\n",
       "      <th>Model</th>\n",
       "      <th>MSE</th>\n",
       "      <th>MAE</th>\n",
       "      <th>R2</th>\n",
       "    </tr>\n",
       "  </thead>\n",
       "  <tbody>\n",
       "    <tr>\n",
       "      <th>0</th>\n",
       "      <td>Linear Regression</td>\n",
       "      <td>217475.752074</td>\n",
       "      <td>343.928902</td>\n",
       "      <td>0.478033</td>\n",
       "    </tr>\n",
       "    <tr>\n",
       "      <th>1</th>\n",
       "      <td>Decision Tree</td>\n",
       "      <td>110257.495761</td>\n",
       "      <td>192.445089</td>\n",
       "      <td>0.735369</td>\n",
       "    </tr>\n",
       "    <tr>\n",
       "      <th>2</th>\n",
       "      <td>Random Forest</td>\n",
       "      <td>70224.388983</td>\n",
       "      <td>140.226825</td>\n",
       "      <td>0.831453</td>\n",
       "    </tr>\n",
       "    <tr>\n",
       "      <th>3</th>\n",
       "      <td>Gradient Boosting</td>\n",
       "      <td>60553.860207</td>\n",
       "      <td>141.185438</td>\n",
       "      <td>0.854664</td>\n",
       "    </tr>\n",
       "    <tr>\n",
       "      <th>4</th>\n",
       "      <td>AdaBoost</td>\n",
       "      <td>111530.680679</td>\n",
       "      <td>226.226174</td>\n",
       "      <td>0.732313</td>\n",
       "    </tr>\n",
       "  </tbody>\n",
       "</table>\n",
       "</div>"
      ],
      "text/plain": [
       "               Model            MSE         MAE        R2\n",
       "0  Linear Regression  217475.752074  343.928902  0.478033\n",
       "1      Decision Tree  110257.495761  192.445089  0.735369\n",
       "2      Random Forest   70224.388983  140.226825  0.831453\n",
       "3  Gradient Boosting   60553.860207  141.185438  0.854664\n",
       "4           AdaBoost  111530.680679  226.226174  0.732313"
      ]
     },
     "metadata": {},
     "output_type": "display_data"
    },
    {
     "data": {
      "image/png": "[encoded data removed]",
      "text/plain": [
       "<Figure size 1200x500 with 3 Axes>"
      ]
     },
     "metadata": {},
     "output_type": "display_data"
    }
   ],
   "source": [
    "df_results = pd.DataFrame(results)\n",
    "display(df_results)\n",
    "\n",
    "import matplotlib.pyplot as plt\n",
    "\n",
    "# 그래프 크기 설정\n",
    "plt.figure(figsize=(12, 5))\n",
    "\n",
    "# MSE 그래프\n",
    "plt.subplot(1, 3, 1)\n",
    "plt.barh(df_results[\"Model\"], df_results[\"MSE\"], color='skyblue')\n",
    "plt.title(\"MSE (↓ better)\")\n",
    "plt.xlabel(\"MSE\")\n",
    "\n",
    "# MAE 그래프\n",
    "plt.subplot(1, 3, 2)\n",
    "plt.barh(df_results[\"Model\"], df_results[\"MAE\"], color='lightgreen')\n",
    "plt.title(\"MAE (↓ better)\")\n",
    "plt.xlabel(\"MAE\")\n",
    "\n",
    "# R² Score 그래프\n",
    "plt.subplot(1, 3, 3)\n",
    "plt.barh(df_results[\"Model\"], df_results[\"R2\"], color='salmon')\n",
    "plt.title(\"R² Score (↑ better)\")\n",
    "plt.xlabel(\"R² Score\")\n",
    "\n",
    "plt.tight_layout()\n",
    "plt.show()\n"
   ]
  }
 ],
 "metadata": {
  "kernelspec": {
   "display_name": "venv",
   "language": "python",
   "name": "python3"
  },
  "language_info": {
   "codemirror_mode": {
    "name": "ipython",
    "version": 3
   },
   "file_extension": ".py",
   "mimetype": "text/x-python",
   "name": "python",
   "nbconvert_exporter": "python",
   "pygments_lexer": "ipython3",
   "version": "3.12.6"
  }
 },
 "nbformat": 4,
 "nbformat_minor": 5
}
