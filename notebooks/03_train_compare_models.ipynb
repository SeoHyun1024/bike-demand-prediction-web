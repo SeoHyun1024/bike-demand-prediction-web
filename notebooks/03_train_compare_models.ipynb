{
 "cells": [
  {
   "cell_type": "markdown",
   "id": "914a4050",
   "metadata": {},
   "source": [
    "#### 데이터 로딩"
   ]
  },
  {
   "cell_type": "code",
   "execution_count": 18,
   "id": "62d720c8",
   "metadata": {},
   "outputs": [],
   "source": [
    "import sys\n",
    "import os\n",
    "sys.path.append(os.path.abspath(os.path.join(os.getcwd(), \"../src\")))\n",
    "\n",
    "import pandas as pd\n",
    "import numpy as np\n",
    "from sklearn.metrics import mean_squared_error, mean_absolute_error, r2_score\n",
    "from sklearn.tree import DecisionTreeRegressor\n",
    "from sklearn.linear_model import LinearRegression\n",
    "import torch\n",
    "\n",
    "\n",
    "train_df = pd.read_csv(\"../data/processed/train.csv\")\n",
    "val_df = pd.read_csv(\"../data/processed/val.csv\")\n",
    "test_df = pd.read_csv(\"../data/processed/test.csv\")\n",
    "\n",
    "X_train = train_df.drop(columns=[\"Rented_Bike_Count\"]).values\n",
    "y_train = train_df[\"Rented_Bike_Count\"].values\n",
    "\n",
    "X_test = test_df.drop(columns=[\"Rented_Bike_Count\"]).values\n",
    "y_test = test_df[\"Rented_Bike_Count\"].values"
   ]
  },
  {
   "cell_type": "markdown",
   "id": "4a2d7c41",
   "metadata": {},
   "source": [
    "#### 평가 함수"
   ]
  },
  {
   "cell_type": "code",
   "execution_count": 19,
   "id": "2642a548",
   "metadata": {},
   "outputs": [],
   "source": [
    "def print_mse(name, mse):\n",
    "    print(f\"[ {name} ]\")\n",
    "    print(f\"  MSE: {mse:.2f}\")\n",
    "    print(\"-\" * 30)\n",
    "    return {\"Model\": name, \"MSE\": mse}\n",
    "\n",
    "results = []"
   ]
  },
  {
   "cell_type": "markdown",
   "id": "75a91ea9",
   "metadata": {},
   "source": [
    "#### 결정 트리 회귀"
   ]
  },
  {
   "cell_type": "code",
   "execution_count": 20,
   "id": "820bcfd4",
   "metadata": {},
   "outputs": [
    {
     "name": "stdout",
     "output_type": "stream",
     "text": [
      "[ Decision Tree ]\n",
      "  MSE: 56878.17\n",
      "------------------------------\n"
     ]
    }
   ],
   "source": [
    "dt = DecisionTreeRegressor(max_depth=10, random_state=42)\n",
    "dt.fit(X_train, y_train)\n",
    "y_pred_dt = dt.predict(X_test)\n",
    "mse = mean_squared_error(y_test, y_pred_dt)\n",
    "results.append(print_mse(\"Decision Tree\", mse))"
   ]
  },
  {
   "cell_type": "markdown",
   "id": "4d8a6eee",
   "metadata": {},
   "source": [
    "#### 선형 회귀"
   ]
  },
  {
   "cell_type": "code",
   "execution_count": 21,
   "id": "603e2e63",
   "metadata": {},
   "outputs": [
    {
     "name": "stdout",
     "output_type": "stream",
     "text": [
      "[ Linear Regression ]\n",
      "  MSE: 179311.94\n",
      "------------------------------\n"
     ]
    }
   ],
   "source": [
    "lr = LinearRegression()\n",
    "lr.fit(X_train, y_train)\n",
    "y_pred_lr = lr.predict(X_test)\n",
    "mse = mean_squared_error(y_test, y_pred_lr)\n",
    "results.append(print_mse(\"Linear Regression\", mse))"
   ]
  },
  {
   "cell_type": "markdown",
   "id": "0ff39650",
   "metadata": {},
   "source": [
    "#### 결과 비교 테이블"
   ]
  },
  {
   "cell_type": "code",
   "execution_count": 22,
   "id": "bde5f977",
   "metadata": {},
   "outputs": [
    {
     "data": {
      "text/html": [
       "<div>\n",
       "<style scoped>\n",
       "    .dataframe tbody tr th:only-of-type {\n",
       "        vertical-align: middle;\n",
       "    }\n",
       "\n",
       "    .dataframe tbody tr th {\n",
       "        vertical-align: top;\n",
       "    }\n",
       "\n",
       "    .dataframe thead th {\n",
       "        text-align: right;\n",
       "    }\n",
       "</style>\n",
       "<table border=\"1\" class=\"dataframe\">\n",
       "  <thead>\n",
       "    <tr style=\"text-align: right;\">\n",
       "      <th></th>\n",
       "      <th>Model</th>\n",
       "      <th>MSE</th>\n",
       "    </tr>\n",
       "  </thead>\n",
       "  <tbody>\n",
       "    <tr>\n",
       "      <th>0</th>\n",
       "      <td>Decision Tree</td>\n",
       "      <td>56878.167442</td>\n",
       "    </tr>\n",
       "    <tr>\n",
       "      <th>1</th>\n",
       "      <td>Linear Regression</td>\n",
       "      <td>179311.941078</td>\n",
       "    </tr>\n",
       "  </tbody>\n",
       "</table>\n",
       "</div>"
      ],
      "text/plain": [
       "               Model            MSE\n",
       "0      Decision Tree   56878.167442\n",
       "1  Linear Regression  179311.941078"
      ]
     },
     "metadata": {},
     "output_type": "display_data"
    }
   ],
   "source": [
    "df_result = pd.DataFrame(results)\n",
    "display(df_result)"
   ]
  }
 ],
 "metadata": {
  "kernelspec": {
   "display_name": ".venv",
   "language": "python",
   "name": "python3"
  },
  "language_info": {
   "codemirror_mode": {
    "name": "ipython",
    "version": 3
   },
   "file_extension": ".py",
   "mimetype": "text/x-python",
   "name": "python",
   "nbconvert_exporter": "python",
   "pygments_lexer": "ipython3",
   "version": "3.13.1"
  }
 },
 "nbformat": 4,
 "nbformat_minor": 5
}
